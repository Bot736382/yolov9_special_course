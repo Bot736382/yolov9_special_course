{
 "cells": [
  {
   "cell_type": "code",
   "execution_count": null,
   "id": "e453edb2",
   "metadata": {},
   "outputs": [],
   "source": [
    "import torch\n",
    "import sys\n",
    "import os\n",
    "\n",
    "# Add YOLOv9 root directory to the Python path\n",
    "sys.path.append('/CV/yolov9')\n",
    "\n",
    "from models.yolo import Model  # This must match your model file\n",
    "from utils.torch_utils import select_device\n",
    "\n",
    "# Load model architecture\n",
    "cfg_path = '/CV/yolov9/models/detect/yolov9-c.yaml'\n",
    "# Number of channels for the pretrained model weights = 80\n",
    "model = Model(cfg_path, ch=3, nc=80)\n",
    "\n",
    "# Load pretrained weights\n",
    "ckpt_path = '/CV/yolov9/weights/yolov9-c.pt'\n",
    "ckpt = torch.load(ckpt_path, map_location='cpu')\n",
    "model.load_state_dict(ckpt['model'].float().state_dict(), strict=False)\n",
    "\n",
    "# unfreeze all layers first\n",
    "for param in model.parameters():\n",
    "    param.requires_grad = True\n"
   ]
  }
 ],
 "metadata": {
  "kernelspec": {
   "display_name": "base",
   "language": "python",
   "name": "python3"
  },
  "language_info": {
   "codemirror_mode": {
    "name": "ipython",
    "version": 3
   },
   "file_extension": ".py",
   "mimetype": "text/x-python",
   "name": "python",
   "nbconvert_exporter": "python",
   "pygments_lexer": "ipython3",
   "version": "3.8.12"
  }
 },
 "nbformat": 4,
 "nbformat_minor": 5
}
