{
 "cells": [
  {
   "cell_type": "code",
   "execution_count": null,
   "id": "e453edb2",
   "metadata": {},
   "outputs": [
    {
     "name": "stderr",
     "output_type": "stream",
     "text": [
      "\n",
      "                 from  n    params  module                                  arguments                     \n",
      "  0                -1  1         0  models.common.Silence                   []                            \n",
      "  1                -1  1      1856  models.common.Conv                      [3, 64, 3, 2]                 \n",
      "  2                -1  1     73984  models.common.Conv                      [64, 128, 3, 2]               \n",
      "  3                -1  1    212864  models.common.RepNCSPELAN4              [128, 256, 128, 64, 1]        \n",
      "  4                -1  1    164352  models.common.ADown                     [256, 256]                    \n",
      "  5                -1  1    847616  models.common.RepNCSPELAN4              [256, 512, 256, 128, 1]       \n",
      "  6                -1  1    656384  models.common.ADown                     [512, 512]                    \n",
      "  7                -1  1   2857472  models.common.RepNCSPELAN4              [512, 512, 512, 256, 1]       \n",
      "  8                -1  1    656384  models.common.ADown                     [512, 512]                    \n",
      "  9                -1  1   2857472  models.common.RepNCSPELAN4              [512, 512, 512, 256, 1]       \n",
      " 10                -1  1    656896  models.common.SPPELAN                   [512, 512, 256]               \n",
      " 11                -1  1         0  torch.nn.modules.upsampling.Upsample    [None, 2, 'nearest']          \n",
      " 12           [-1, 7]  1         0  models.common.Concat                    [1]                           \n",
      " 13                -1  1   3119616  models.common.RepNCSPELAN4              [1024, 512, 512, 256, 1]      \n",
      " 14                -1  1         0  torch.nn.modules.upsampling.Upsample    [None, 2, 'nearest']          \n",
      " 15           [-1, 5]  1         0  models.common.Concat                    [1]                           \n",
      " 16                -1  1    912640  models.common.RepNCSPELAN4              [1024, 256, 256, 128, 1]      \n",
      " 17                -1  1    164352  models.common.ADown                     [256, 256]                    \n",
      " 18          [-1, 13]  1         0  models.common.Concat                    [1]                           \n",
      " 19                -1  1   2988544  models.common.RepNCSPELAN4              [768, 512, 512, 256, 1]       \n",
      " 20                -1  1    656384  models.common.ADown                     [512, 512]                    \n",
      " 21          [-1, 10]  1         0  models.common.Concat                    [1]                           \n",
      " 22                -1  1   3119616  models.common.RepNCSPELAN4              [1024, 512, 512, 256, 1]      \n",
      " 23                 5  1    131328  models.common.CBLinear                  [512, [256]]                  \n",
      " 24                 7  1    393984  models.common.CBLinear                  [512, [256, 512]]             \n",
      " 25                 9  1    656640  models.common.CBLinear                  [512, [256, 512, 512]]        \n",
      " 26                 0  1      1856  models.common.Conv                      [3, 64, 3, 2]                 \n",
      " 27                -1  1     73984  models.common.Conv                      [64, 128, 3, 2]               \n",
      " 28                -1  1    212864  models.common.RepNCSPELAN4              [128, 256, 128, 64, 1]        \n",
      " 29                -1  1    164352  models.common.ADown                     [256, 256]                    \n",
      " 30  [23, 24, 25, -1]  1         0  models.common.CBFuse                    [[0, 0, 0]]                   \n",
      " 31                -1  1    847616  models.common.RepNCSPELAN4              [256, 512, 256, 128, 1]       \n",
      " 32                -1  1    656384  models.common.ADown                     [512, 512]                    \n",
      " 33      [24, 25, -1]  1         0  models.common.CBFuse                    [[1, 1]]                      \n",
      " 34                -1  1   2857472  models.common.RepNCSPELAN4              [512, 512, 512, 256, 1]       \n",
      " 35                -1  1    656384  models.common.ADown                     [512, 512]                    \n",
      " 36          [25, -1]  1         0  models.common.CBFuse                    [[2]]                         \n",
      " 37                -1  1   2857472  models.common.RepNCSPELAN4              [512, 512, 512, 256, 1]       \n",
      " 38[31, 34, 37, 16, 19, 22]  1  21725312  models.yolo.DualDDetect                 [80, [512, 512, 512, 256, 512, 512]]\n",
      "yolov9-c summary: 962 layers, 51182080 parameters, 51182048 gradients\n",
      "\n"
     ]
    }
   ],
   "source": [
    "import torch\n",
    "import sys\n",
    "import os\n",
    "\n",
    "# Add YOLOv9 root directory to the Python path\n",
    "sys.path.append('/CV/yolov9')\n",
    "\n",
    "from models.yolo import Model  # This must match your model file\n",
    "from utils.torch_utils import select_device\n",
    "\n",
    "# Load model architecture\n",
    "cfg_path = '/CV/yolov9/models/detect/yolov9-c.yaml'\n",
    "model = Model(cfg_path, ch=3, nc=80)  # Adjust `nc` to your number of classes\n",
    "\n",
    "# Load pretrained weights\n",
    "ckpt_path = '/CV/yolov9/weights/yolov9-c.pt'\n",
    "ckpt = torch.load(ckpt_path, map_location='cpu')\n",
    "model.load_state_dict(ckpt['model'].float().state_dict(), strict=False)\n",
    "\n",
    "# unfreeze all layers first\n",
    "for param in model.parameters():\n",
    "    param.requires_grad = True\n"
   ]
  }
 ],
 "metadata": {
  "kernelspec": {
   "display_name": "base",
   "language": "python",
   "name": "python3"
  },
  "language_info": {
   "codemirror_mode": {
    "name": "ipython",
    "version": 3
   },
   "file_extension": ".py",
   "mimetype": "text/x-python",
   "name": "python",
   "nbconvert_exporter": "python",
   "pygments_lexer": "ipython3",
   "version": "3.8.12"
  }
 },
 "nbformat": 4,
 "nbformat_minor": 5
}
